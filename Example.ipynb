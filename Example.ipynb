{
 "cells": [
  {
   "cell_type": "code",
   "execution_count": 1,
   "id": "f530dbd3",
   "metadata": {},
   "outputs": [],
   "source": [
    "import numpy as np\n",
    "from scipy import signal\n",
    "import matplotlib.pyplot as plt\n",
    "from latdft import LatticeDFT"
   ]
  },
  {
   "cell_type": "code",
   "execution_count": 2,
   "id": "cc18d74c",
   "metadata": {},
   "outputs": [
    {
     "name": "stdout",
     "output_type": "stream",
     "text": [
      "============== The DFT 3D for Lattice fluids ==============\n"
     ]
    }
   ],
   "source": [
    "dft = LatticeDFT()"
   ]
  },
  {
   "cell_type": "code",
   "execution_count": 3,
   "id": "0d4a5ded",
   "metadata": {},
   "outputs": [
    {
     "name": "stdout",
     "output_type": "stream",
     "text": [
      "Geometry properties:\n",
      "Lx = 6  A\n",
      "Ly = 6  A\n",
      "Lz = 56  A\n",
      "Vol = 2016  A³\n",
      "The gridsize is 1.0\n"
     ]
    },
    {
     "data": {
      "text/plain": [
       "6"
      ]
     },
     "execution_count": 3,
     "metadata": {},
     "output_type": "execute_result"
    }
   ],
   "source": [
    "dft.Set_Geometry(np.array([6,6,56]),gridsize=1.0)\n",
    "dft.N[0]"
   ]
  },
  {
   "cell_type": "code",
   "execution_count": 4,
   "id": "362a1287",
   "metadata": {},
   "outputs": [
    {
     "name": "stdout",
     "output_type": "stream",
     "text": [
      "Fluid properties:\n",
      "epsilon/kB = 1.0  K\n",
      "Temperature = 1.0  K\n"
     ]
    }
   ],
   "source": [
    "dft.Set_FluidProperties(epsilon=1.0)\n",
    "dft.Set_Temperature(kT=1.0)"
   ]
  },
  {
   "cell_type": "code",
   "execution_count": 5,
   "id": "f8bdff12",
   "metadata": {},
   "outputs": [],
   "source": [
    "epsilons = -3.0\n",
    "phi = np.zeros_like(dft.rho)"
   ]
  },
  {
   "cell_type": "code",
   "execution_count": 6,
   "id": "f87d8be2",
   "metadata": {},
   "outputs": [],
   "source": [
    "# repulsive wall\n",
    "phi[0,:,dft.N[0]:-dft.N[0]] = 1.0\n",
    "phi[-1,:,dft.N[0]:-dft.N[0]] = 1.0\n",
    "phi[:,0,dft.N[0]:-dft.N[0]] = 1.0\n",
    "phi[:,-1,dft.N[0]:-dft.N[0]] = 1.0\n",
    "\n",
    "#attractive wall\n",
    "phi[1,1:-1,dft.N[0]:-dft.N[0]] = epsilons\n",
    "phi[-2,1:-1,dft.N[0]:-dft.N[0]] = epsilons\n",
    "phi[1:-1,1,dft.N[0]:-dft.N[0]] = epsilons\n",
    "phi[1:-1,-2,dft.N[0]:-dft.N[0]] = epsilons"
   ]
  },
  {
   "cell_type": "code",
   "execution_count": 7,
   "id": "9c641a57",
   "metadata": {},
   "outputs": [
    {
     "data": {
      "text/plain": [
       "<matplotlib.image.AxesImage at 0x7f022b968160>"
      ]
     },
     "execution_count": 7,
     "metadata": {},
     "output_type": "execute_result"
    },
    {
     "data": {
      "image/png": "[encoded data removed]",
      "text/plain": [
       "<Figure size 432x288 with 1 Axes>"
      ]
     },
     "metadata": {
      "needs_background": "light"
     },
     "output_type": "display_data"
    }
   ],
   "source": [
    "plt.imshow(phi[:,dft.N[0]//2,:],cmap='inferno')"
   ]
  },
  {
   "cell_type": "code",
   "execution_count": 8,
   "id": "cc9b8ca9",
   "metadata": {},
   "outputs": [],
   "source": [
    "dft.Set_External_Potential(phi)"
   ]
  },
  {
   "cell_type": "code",
   "execution_count": 9,
   "id": "ccc38a24",
   "metadata": {},
   "outputs": [],
   "source": [
    "rhobarray = np.arange(0.01,0.9,0.01)\n",
    "muarray = np.empty_like(rhobarray)\n",
    "Parray = np.empty_like(rhobarray)\n",
    "\n",
    "for i in range(rhobarray.size):\n",
    "\n",
    "    dft.Set_BulkDensity(rhobarray[i])\n",
    "    muarray[i] = dft.mu\n",
    "    Parray[i] = dft.P"
   ]
  },
  {
   "cell_type": "code",
   "execution_count": 10,
   "id": "9df17d9e",
   "metadata": {},
   "outputs": [
    {
     "data": {
      "text/plain": [
       "[<matplotlib.lines.Line2D at 0x7f022ba33310>]"
      ]
     },
     "execution_count": 10,
     "metadata": {},
     "output_type": "execute_result"
    },
    {
     "data": {
      "image/png": "[encoded data removed]",
      "text/plain": [
       "<Figure size 432x288 with 1 Axes>"
      ]
     },
     "metadata": {
      "needs_background": "light"
     },
     "output_type": "display_data"
    }
   ],
   "source": [
    "plt.plot(rhobarray,Parray)"
   ]
  },
  {
   "cell_type": "markdown",
   "id": "19859db5",
   "metadata": {},
   "source": [
    "# Adsorption"
   ]
  },
  {
   "cell_type": "code",
   "execution_count": 11,
   "id": "84bca82f",
   "metadata": {},
   "outputs": [],
   "source": [
    "rhobarray = np.arange(0.001,0.071,0.001)\n",
    "Parray = np.empty_like(rhobarray)\n",
    "Nadsarray = np.empty_like(rhobarray)\n",
    "\n",
    "dft.Set_BulkDensity(rhobarray[0])\n",
    "dft.Set_InitialCondition()\n",
    "\n",
    "dft.Calculate_Equilibrium(alpha0=0.21,dt=0.005,rtol=1e-3,atol=1e-5,logoutput=False)\n",
    "\n",
    "Nadsarray[0] = dft.Nads\n",
    "\n",
    "Nx, Ny, Nz = dft.rho.shape\n",
    "rhomap = np.empty((rhobarray.size,Nx, Ny, Nz))\n",
    "\n",
    "rhomap[0] = dft.rho\n",
    "\n",
    "for i in range(1,rhobarray.size):\n",
    "    dft.Set_BulkDensity(rhobarray[i])\n",
    "    Parray[i] = dft.P\n",
    "\n",
    "    dft.Calculate_Equilibrium(alpha0=0.21,dt=0.005,rtol=1e-3,atol=1e-5,logoutput=False)\n",
    "    \n",
    "    rhomap[i] = dft.rho\n",
    "    Nadsarray[i] = dft.Nads"
   ]
  },
  {
   "cell_type": "code",
   "execution_count": 12,
   "id": "96e822c2",
   "metadata": {},
   "outputs": [
    {
     "data": {
      "text/plain": [
       "70"
      ]
     },
     "execution_count": 12,
     "metadata": {},
     "output_type": "execute_result"
    }
   ],
   "source": [
    "rhobarray.size"
   ]
  },
  {
   "cell_type": "code",
   "execution_count": 13,
   "id": "f7ef4896",
   "metadata": {},
   "outputs": [
    {
     "data": {
      "text/plain": [
       "0.3593115604588537"
      ]
     },
     "execution_count": 13,
     "metadata": {},
     "output_type": "execute_result"
    }
   ],
   "source": [
    "Parray[21]/Parray[-1]"
   ]
  },
  {
   "cell_type": "code",
   "execution_count": 14,
   "id": "95eac959",
   "metadata": {},
   "outputs": [
    {
     "data": {
      "text/plain": [
       "0.045656032476190316"
      ]
     },
     "execution_count": 14,
     "metadata": {},
     "output_type": "execute_result"
    }
   ],
   "source": [
    "rhomap[1].max()"
   ]
  },
  {
   "cell_type": "code",
   "execution_count": 15,
   "id": "e3726dc3",
   "metadata": {},
   "outputs": [
    {
     "data": {
      "text/plain": [
       "0.9885520528228229"
      ]
     },
     "execution_count": 15,
     "metadata": {},
     "output_type": "execute_result"
    }
   ],
   "source": [
    "rhomap[41].max()"
   ]
  },
  {
   "cell_type": "code",
   "execution_count": 16,
   "id": "c0b7b896",
   "metadata": {},
   "outputs": [
    {
     "data": {
      "text/plain": [
       "<matplotlib.image.AxesImage at 0x7f020a8aa740>"
      ]
     },
     "execution_count": 16,
     "metadata": {},
     "output_type": "execute_result"
    },
    {
     "data": {
      "image/png": "[encoded data removed]",
      "text/plain": [
       "<Figure size 432x288 with 1 Axes>"
      ]
     },
     "metadata": {
      "needs_background": "light"
     },
     "output_type": "display_data"
    }
   ],
   "source": [
    "plt.imshow(rhomap[30,4,:,:],cmap='inferno',vmin=0.,vmax=1.0)"
   ]
  },
  {
   "cell_type": "code",
   "execution_count": 17,
   "id": "f12f391b",
   "metadata": {},
   "outputs": [
    {
     "data": {
      "text/plain": [
       "<matplotlib.image.AxesImage at 0x7f020a91c580>"
      ]
     },
     "execution_count": 17,
     "metadata": {},
     "output_type": "execute_result"
    },
    {
     "data": {
      "image/png": "[encoded data removed]",
      "text/plain": [
       "<Figure size 432x288 with 1 Axes>"
      ]
     },
     "metadata": {
      "needs_background": "light"
     },
     "output_type": "display_data"
    }
   ],
   "source": [
    "plt.imshow(rhomap[41,4,:,:],cmap='inferno',vmin=0.,vmax=1.0)"
   ]
  },
  {
   "cell_type": "code",
   "execution_count": 18,
   "id": "f229034d",
   "metadata": {},
   "outputs": [
    {
     "data": {
      "text/plain": [
       "<matplotlib.image.AxesImage at 0x7f020a766470>"
      ]
     },
     "execution_count": 18,
     "metadata": {},
     "output_type": "execute_result"
    },
    {
     "data": {
      "image/png": "[encoded data removed]",
      "text/plain": [
       "<Figure size 432x288 with 1 Axes>"
      ]
     },
     "metadata": {
      "needs_background": "light"
     },
     "output_type": "display_data"
    }
   ],
   "source": [
    "plt.imshow(rhomap[42,4,:,:],cmap='inferno',vmin=0.,vmax=1.0)"
   ]
  },
  {
   "cell_type": "code",
   "execution_count": 19,
   "id": "1938f6fb",
   "metadata": {},
   "outputs": [
    {
     "data": {
      "image/png": "[encoded data removed]",
      "text/plain": [
       "<Figure size 288x216 with 1 Axes>"
      ]
     },
     "metadata": {
      "needs_background": "light"
     },
     "output_type": "display_data"
    }
   ],
   "source": [
    "%matplotlib inline\n",
    "from matplotlib import animation\n",
    "from matplotlib.animation import PillowWriter\n",
    "\n",
    "def animate(i):\n",
    "    ax.clear()\n",
    "    ax.imshow(rhomap[i,4,:,:],cmap='inferno',vmin=0.,vmax=1.0)\n",
    "    return fig,\n",
    "    \n",
    "fig, ax = plt.subplots(1,1,figsize=(4,3))\n",
    "ani = animation.FuncAnimation(fig, animate, frames= rhobarray.size,\n",
    "                               interval = 50)\n",
    "ani.save('rhomap.gif',writer='pillow',fps=30,dpi=200)"
   ]
  },
  {
   "cell_type": "code",
   "execution_count": 20,
   "id": "dbca7ae3",
   "metadata": {},
   "outputs": [
    {
     "data": {
      "text/plain": [
       "Text(0, 0.5, '$N_{ads}$')"
      ]
     },
     "execution_count": 20,
     "metadata": {},
     "output_type": "execute_result"
    },
    {
     "data": {
      "image/png": "[encoded data removed]",
      "text/plain": [
       "<Figure size 432x288 with 1 Axes>"
      ]
     },
     "metadata": {
      "needs_background": "light"
     },
     "output_type": "display_data"
    }
   ],
   "source": [
    "plt.plot(Parray/Parray[-1],Nadsarray)\n",
    "plt.xlabel('$P/P_0$')\n",
    "plt.ylabel('$N_{ads}$')"
   ]
  },
  {
   "cell_type": "markdown",
   "id": "ed58edfb",
   "metadata": {},
   "source": [
    "# Desorption"
   ]
  },
  {
   "cell_type": "code",
   "execution_count": 21,
   "id": "73a98d5b",
   "metadata": {},
   "outputs": [],
   "source": [
    "Nadsarraydes = np.empty_like(rhobarray)\n",
    "\n",
    "for i in range(rhobarray.size):\n",
    "    dft.Set_BulkDensity(rhobarray[rhobarray.size-1-i])\n",
    "\n",
    "    dft.Calculate_Equilibrium(alpha0=0.2,dt=0.005,rtol=1e-3,atol=1e-5,logoutput=False)\n",
    "    \n",
    "    Nadsarraydes[rhobarray.size-1-i] = dft.Nads"
   ]
  },
  {
   "cell_type": "code",
   "execution_count": 22,
   "id": "fd50b148",
   "metadata": {},
   "outputs": [
    {
     "data": {
      "text/plain": [
       "Text(0, 0.5, '$N_{ads}$')"
      ]
     },
     "execution_count": 22,
     "metadata": {},
     "output_type": "execute_result"
    },
    {
     "data": {
      "image/png": "[encoded data removed]",
      "text/plain": [
       "<Figure size 432x288 with 1 Axes>"
      ]
     },
     "metadata": {
      "needs_background": "light"
     },
     "output_type": "display_data"
    }
   ],
   "source": [
    "plt.plot(Parray/Parray[-1],Nadsarray)\n",
    "plt.plot(Parray/Parray[-1],Nadsarraydes,'C0--')\n",
    "plt.xlabel('$P/P_0$')\n",
    "plt.ylabel('$N_{ads}$')"
   ]
  },
  {
   "cell_type": "code",
   "execution_count": 24,
   "id": "6aafe87b",
   "metadata": {},
   "outputs": [],
   "source": [
    "np.save('isotherm-prism-L='+str(dft.N[0])+'x'+str(dft.N[1])+'x'+str(dft.N[2])+'-epsilonsf='+str(-epsilons)+'.npy',[Parray/Parray[-1],Nadsarray,Nadsarraydes])"
   ]
  },
  {
   "cell_type": "code",
   "execution_count": 25,
   "id": "a770389d",
   "metadata": {},
   "outputs": [],
   "source": [
    "Parray1p5,Nadsarray1p5,Nadsarraydes1p5 = np.load('isotherm-prism-L=6x6x4-epsilonsf=1.5.npy')\n",
    "Parray3,Nadsarray3,Nadsarraydes3 = np.load('isotherm-prism-L=6x6x4-epsilonsf=3.npy')"
   ]
  },
  {
   "cell_type": "code",
   "execution_count": 27,
   "id": "9ec3d727",
   "metadata": {},
   "outputs": [
    {
     "data": {
      "text/plain": [
       "<matplotlib.legend.Legend at 0x7f020a6bba30>"
      ]
     },
     "execution_count": 27,
     "metadata": {},
     "output_type": "execute_result"
    },
    {
     "data": {
      "image/png": "[encoded data removed]",
      "text/plain": [
       "<Figure size 432x288 with 1 Axes>"
      ]
     },
     "metadata": {
      "needs_background": "light"
     },
     "output_type": "display_data"
    }
   ],
   "source": [
    "plt.plot(Parray3,Nadsarray3,'C0',label='$\\epsilon_{sf}=3.0$')\n",
    "plt.plot(Parray3,Nadsarraydes3,'C0--')\n",
    "\n",
    "plt.plot(Parray1p5,Nadsarray1p5,'C1',label='1.5')\n",
    "plt.plot(Parray1p5,Nadsarraydes1p5,'C1--')\n",
    "\n",
    "plt.plot(Parray/Parray[-1],Nadsarray,'C3')\n",
    "plt.plot(Parray/Parray[-1],Nadsarraydes,'C3--')\n",
    "\n",
    "plt.xlabel('$P/P_0$')\n",
    "plt.ylabel('$N_{ads}$')\n",
    "plt.legend(loc='upper left')"
   ]
  },
  {
   "cell_type": "code",
   "execution_count": null,
   "id": "1d233256",
   "metadata": {},
   "outputs": [],
   "source": []
  }
 ],
 "metadata": {
  "kernelspec": {
   "display_name": "Python 3 (ipykernel)",
   "language": "python",
   "name": "python3"
  },
  "language_info": {
   "codemirror_mode": {
    "name": "ipython",
    "version": 3
   },
   "file_extension": ".py",
   "mimetype": "text/x-python",
   "name": "python",
   "nbconvert_exporter": "python",
   "pygments_lexer": "ipython3",
   "version": "3.10.6"
  }
 },
 "nbformat": 4,
 "nbformat_minor": 5
}
